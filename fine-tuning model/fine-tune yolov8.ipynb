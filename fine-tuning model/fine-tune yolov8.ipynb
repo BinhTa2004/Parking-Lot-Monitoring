{
 "metadata": {
  "kernelspec": {
   "language": "python",
   "display_name": "Python 3",
   "name": "python3"
  },
  "language_info": {
   "name": "python",
   "version": "3.11.13",
   "mimetype": "text/x-python",
   "codemirror_mode": {
    "name": "ipython",
    "version": 3
   },
   "pygments_lexer": "ipython3",
   "nbconvert_exporter": "python",
   "file_extension": ".py"
  },
  "kaggle": {
   "accelerator": "nvidiaTeslaT4",
   "dataSources": [
    {
     "sourceId": 12508418,
     "sourceType": "datasetVersion",
     "datasetId": 7837213
    }
   ],
   "dockerImageVersionId": 31089,
   "isInternetEnabled": true,
   "language": "python",
   "sourceType": "notebook",
   "isGpuEnabled": true
  }
 },
 "nbformat_minor": 4,
 "nbformat": 4,
 "cells": [
  {
   "metadata": {
    "_uuid": "8f2839f25d086af736a60e9eeb907d3b93b6e0e5",
    "_cell_guid": "b1076dfc-b9ad-4769-8c92-a6c4dae69d19",
    "trusted": true,
    "execution": {
     "iopub.status.busy": "2025-07-18T13:17:06.201411Z",
     "iopub.execute_input": "2025-07-18T13:17:06.201597Z",
     "iopub.status.idle": "2025-07-18T13:18:22.638289Z",
     "shell.execute_reply.started": "2025-07-18T13:17:06.201572Z",
     "shell.execute_reply": "2025-07-18T13:18:22.637554Z"
    }
   },
   "cell_type": "code",
   "outputs": [
    {
     "name": "stdout",
     "output_type": "stream",
     "text": []
    }
   ],
   "execution_count": 1,
   "source": "!pip install ultralytics"
  },
  {
   "cell_type": "code",
   "source": "from ultralytics import YOLO\n\nmodel = YOLO(\"yolov8n.pt\") \nresults = model.train(data=\"/kaggle/input/parkingmanagement/Data/Data/data.yaml\", epochs=100, imgsz=1280, batch=2)",
   "metadata": {
    "trusted": true,
    "execution": {
     "iopub.status.busy": "2025-07-18T13:18:22.644958Z",
     "iopub.execute_input": "2025-07-18T13:18:22.645160Z",
     "iopub.status.idle": "2025-07-18T13:21:43.705748Z",
     "shell.execute_reply.started": "2025-07-18T13:18:22.645135Z",
     "shell.execute_reply": "2025-07-18T13:21:43.704711Z"
    }
   },
   "outputs": [
    {
     "name": "stdout",
     "text": "Creating new Ultralytics Settings v0.0.6 file ✅ \nView Ultralytics Settings with 'yolo settings' or at '/root/.config/Ultralytics/settings.json'\nUpdate Settings with 'yolo settings key=value', i.e. 'yolo settings runs_dir=path/to/dir'. For help see https://docs.ultralytics.com/quickstart/#ultralytics-settings.\nDownloading https://github.com/ultralytics/assets/releases/download/v8.3.0/yolov8n.pt to 'yolov8n.pt'...\n",
     "output_type": "stream"
    },
    {
     "name": "stderr",
     "text": "100%|██████████| 6.25M/6.25M [00:00<00:00, 67.2MB/s]\n",
     "output_type": "stream"
    },
    {
     "name": "stdout",
     "text": "Ultralytics 8.3.168 🚀 Python-3.11.13 torch-2.6.0+cu124 CUDA:0 (Tesla T4, 15095MiB)\n\u001B[34m\u001B[1mengine/trainer: \u001B[0magnostic_nms=False, amp=True, augment=False, auto_augment=randaugment, batch=2, bgr=0.0, box=7.5, cache=False, cfg=None, classes=None, close_mosaic=10, cls=0.5, conf=None, copy_paste=0.0, copy_paste_mode=flip, cos_lr=False, cutmix=0.0, data=/kaggle/input/parkingmanagement/Data/Data/data.yaml, degrees=0.0, deterministic=True, device=None, dfl=1.5, dnn=False, dropout=0.0, dynamic=False, embed=None, epochs=100, erasing=0.4, exist_ok=False, fliplr=0.5, flipud=0.0, format=torchscript, fraction=1.0, freeze=None, half=False, hsv_h=0.015, hsv_s=0.7, hsv_v=0.4, imgsz=1280, int8=False, iou=0.7, keras=False, kobj=1.0, line_width=None, lr0=0.01, lrf=0.01, mask_ratio=4, max_det=300, mixup=0.0, mode=train, model=yolov8n.pt, momentum=0.937, mosaic=1.0, multi_scale=False, name=train, nbs=64, nms=False, opset=None, optimize=False, optimizer=auto, overlap_mask=True, patience=100, perspective=0.0, plots=True, pose=12.0, pretrained=True, profile=False, project=None, rect=False, resume=False, retina_masks=False, save=True, save_conf=False, save_crop=False, save_dir=runs/detect/train, save_frames=False, save_json=False, save_period=-1, save_txt=False, scale=0.5, seed=0, shear=0.0, show=False, show_boxes=True, show_conf=True, show_labels=True, simplify=True, single_cls=False, source=None, split=val, stream_buffer=False, task=detect, time=None, tracker=botsort.yaml, translate=0.1, val=True, verbose=True, vid_stride=1, visualize=False, warmup_bias_lr=0.1, warmup_epochs=3.0, warmup_momentum=0.8, weight_decay=0.0005, workers=8, workspace=None\nDownloading https://ultralytics.com/assets/Arial.ttf to '/root/.config/Ultralytics/Arial.ttf'...\n",
     "output_type": "stream"
    },
    {
     "name": "stderr",
     "text": "100%|██████████| 755k/755k [00:00<00:00, 16.0MB/s]\n",
     "output_type": "stream"
    },
    {
     "name": "stdout",
     "text": "Overriding model.yaml nc=80 with nc=1\n\n                   from  n    params  module                                       arguments                     \n  0                  -1  1       464  ultralytics.nn.modules.conv.Conv             [3, 16, 3, 2]                 \n  1                  -1  1      4672  ultralytics.nn.modules.conv.Conv             [16, 32, 3, 2]                \n  2                  -1  1      7360  ultralytics.nn.modules.block.C2f             [32, 32, 1, True]             \n  3                  -1  1     18560  ultralytics.nn.modules.conv.Conv             [32, 64, 3, 2]                \n  4                  -1  2     49664  ultralytics.nn.modules.block.C2f             [64, 64, 2, True]             \n  5                  -1  1     73984  ultralytics.nn.modules.conv.Conv             [64, 128, 3, 2]               \n  6                  -1  2    197632  ultralytics.nn.modules.block.C2f             [128, 128, 2, True]           \n  7                  -1  1    295424  ultralytics.nn.modules.conv.Conv             [128, 256, 3, 2]              \n  8                  -1  1    460288  ultralytics.nn.modules.block.C2f             [256, 256, 1, True]           \n  9                  -1  1    164608  ultralytics.nn.modules.block.SPPF            [256, 256, 5]                 \n 10                  -1  1         0  torch.nn.modules.upsampling.Upsample         [None, 2, 'nearest']          \n 11             [-1, 6]  1         0  ultralytics.nn.modules.conv.Concat           [1]                           \n 12                  -1  1    148224  ultralytics.nn.modules.block.C2f             [384, 128, 1]                 \n 13                  -1  1         0  torch.nn.modules.upsampling.Upsample         [None, 2, 'nearest']          \n 14             [-1, 4]  1         0  ultralytics.nn.modules.conv.Concat           [1]                           \n 15                  -1  1     37248  ultralytics.nn.modules.block.C2f             [192, 64, 1]                  \n 16                  -1  1     36992  ultralytics.nn.modules.conv.Conv             [64, 64, 3, 2]                \n 17            [-1, 12]  1         0  ultralytics.nn.modules.conv.Concat           [1]                           \n 18                  -1  1    123648  ultralytics.nn.modules.block.C2f             [192, 128, 1]                 \n 19                  -1  1    147712  ultralytics.nn.modules.conv.Conv             [128, 128, 3, 2]              \n 20             [-1, 9]  1         0  ultralytics.nn.modules.conv.Concat           [1]                           \n 21                  -1  1    493056  ultralytics.nn.modules.block.C2f             [384, 256, 1]                 \n 22        [15, 18, 21]  1    751507  ultralytics.nn.modules.head.Detect           [1, [64, 128, 256]]           \nModel summary: 129 layers, 3,011,043 parameters, 3,011,027 gradients, 8.2 GFLOPs\n\nTransferred 319/355 items from pretrained weights\nFreezing layer 'model.22.dfl.conv.weight'\n\u001B[34m\u001B[1mAMP: \u001B[0mrunning Automatic Mixed Precision (AMP) checks...\nDownloading https://github.com/ultralytics/assets/releases/download/v8.3.0/yolo11n.pt to 'yolo11n.pt'...\n",
     "output_type": "stream"
    },
    {
     "name": "stderr",
     "text": "100%|██████████| 5.35M/5.35M [00:00<00:00, 76.0MB/s]\n",
     "output_type": "stream"
    },
    {
     "name": "stdout",
     "text": "\u001B[34m\u001B[1mAMP: \u001B[0mchecks passed ✅\n\u001B[34m\u001B[1mtrain: \u001B[0mFast image access ✅ (ping: 0.0±0.0 ms, read: 30.2±9.4 MB/s, size: 137.8 KB)\n",
     "output_type": "stream"
    },
    {
     "name": "stderr",
     "text": "\u001B[34m\u001B[1mtrain: \u001B[0mScanning /kaggle/input/parkingmanagement/Data/Data/train/labels... 26 images, 0 backgrounds, 0 corrupt: 100%|██████████| 26/26 [00:00<00:00, 280.93it/s]",
     "output_type": "stream"
    },
    {
     "name": "stdout",
     "text": "WARNING ⚠️ \u001B[34m\u001B[1mtrain: \u001B[0mCache directory /kaggle/input/parkingmanagement/Data/Data/train is not writeable, cache not saved.\n",
     "output_type": "stream"
    },
    {
     "name": "stderr",
     "text": "\n",
     "output_type": "stream"
    },
    {
     "name": "stdout",
     "text": "\u001B[34m\u001B[1malbumentations: \u001B[0mBlur(p=0.01, blur_limit=(3, 7)), MedianBlur(p=0.01, blur_limit=(3, 7)), ToGray(p=0.01, method='weighted_average', num_output_channels=3), CLAHE(p=0.01, clip_limit=(1.0, 4.0), tile_grid_size=(8, 8))\n\u001B[34m\u001B[1mval: \u001B[0mFast image access ✅ (ping: 0.0±0.0 ms, read: 35.8±7.4 MB/s, size: 135.5 KB)\n",
     "output_type": "stream"
    },
    {
     "name": "stderr",
     "text": "\u001B[34m\u001B[1mval: \u001B[0mScanning /kaggle/input/parkingmanagement/Data/Data/valid/labels... 6 images, 0 backgrounds, 0 corrupt: 100%|██████████| 6/6 [00:00<00:00, 328.32it/s]",
     "output_type": "stream"
    },
    {
     "name": "stdout",
     "text": "WARNING ⚠️ \u001B[34m\u001B[1mval: \u001B[0mCache directory /kaggle/input/parkingmanagement/Data/Data/valid is not writeable, cache not saved.\n",
     "output_type": "stream"
    },
    {
     "name": "stderr",
     "text": "\n",
     "output_type": "stream"
    },
    {
     "name": "stdout",
     "text": "Plotting labels to runs/detect/train/labels.jpg... \n\u001B[34m\u001B[1moptimizer:\u001B[0m 'optimizer=auto' found, ignoring 'lr0=0.01' and 'momentum=0.937' and determining best 'optimizer', 'lr0' and 'momentum' automatically... \n\u001B[34m\u001B[1moptimizer:\u001B[0m AdamW(lr=0.002, momentum=0.9) with parameter groups 57 weight(decay=0.0), 64 weight(decay=0.0005), 63 bias(decay=0.0)\nImage sizes 1280 train, 1280 val\nUsing 2 dataloader workers\nLogging results to \u001B[1mruns/detect/train\u001B[0m\nStarting training for 100 epochs...\n\n      Epoch    GPU_mem   box_loss   cls_loss   dfl_loss  Instances       Size\n",
     "output_type": "stream"
    },
    {
     "name": "stderr",
     "text": "      1/100      1.91G      1.195      3.227      1.101        153       1280: 100%|██████████| 13/13 [00:02<00:00,  4.85it/s]\n                 Class     Images  Instances      Box(P          R      mAP50  mAP50-95): 100%|██████████| 2/2 [00:00<00:00,  2.06it/s]",
     "output_type": "stream"
    },
    {
     "name": "stdout",
     "text": "                   all          6        322     0.0506      0.283     0.0788     0.0525\n",
     "output_type": "stream"
    },
    {
     "name": "stderr",
     "text": "\n",
     "output_type": "stream"
    },
    {
     "name": "stdout",
     "text": "\n      Epoch    GPU_mem   box_loss   cls_loss   dfl_loss  Instances       Size\n",
     "output_type": "stream"
    },
    {
     "name": "stderr",
     "text": "      2/100      1.93G      1.006      2.748     0.9925        278       1280: 100%|██████████| 13/13 [00:01<00:00,  9.68it/s]\n                 Class     Images  Instances      Box(P          R      mAP50  mAP50-95): 100%|██████████| 2/2 [00:00<00:00, 17.26it/s]",
     "output_type": "stream"
    },
    {
     "name": "stdout",
     "text": "                   all          6        322      0.065      0.363      0.197      0.131\n",
     "output_type": "stream"
    },
    {
     "name": "stderr",
     "text": "\n",
     "output_type": "stream"
    },
    {
     "name": "stdout",
     "text": "\n      Epoch    GPU_mem   box_loss   cls_loss   dfl_loss  Instances       Size\n",
     "output_type": "stream"
    },
    {
     "name": "stderr",
     "text": "      3/100      1.95G      1.156      1.981     0.9924        254       1280: 100%|██████████| 13/13 [00:01<00:00, 10.05it/s]\n                 Class     Images  Instances      Box(P          R      mAP50  mAP50-95): 100%|██████████| 2/2 [00:00<00:00, 12.03it/s]",
     "output_type": "stream"
    },
    {
     "name": "stdout",
     "text": "                   all          6        322      0.835      0.236      0.496      0.283\n",
     "output_type": "stream"
    },
    {
     "name": "stderr",
     "text": "\n",
     "output_type": "stream"
    },
    {
     "name": "stdout",
     "text": "\n      Epoch    GPU_mem   box_loss   cls_loss   dfl_loss  Instances       Size\n",
     "output_type": "stream"
    },
    {
     "name": "stderr",
     "text": "      4/100      2.68G      1.255      1.624     0.9831        393       1280: 100%|██████████| 13/13 [00:01<00:00,  8.63it/s]\n                 Class     Images  Instances      Box(P          R      mAP50  mAP50-95): 100%|██████████| 2/2 [00:00<00:00, 17.61it/s]",
     "output_type": "stream"
    },
    {
     "name": "stdout",
     "text": "                   all          6        322      0.835      0.236      0.496      0.283\n",
     "output_type": "stream"
    },
    {
     "name": "stderr",
     "text": "\n",
     "output_type": "stream"
    },
    {
     "name": "stdout",
     "text": "\n      Epoch    GPU_mem   box_loss   cls_loss   dfl_loss  Instances       Size\n",
     "output_type": "stream"
    },
    {
     "name": "stderr",
     "text": "      5/100       2.7G      1.474       2.56      1.141        330       1280: 100%|██████████| 13/13 [00:01<00:00,  9.88it/s]\n                 Class     Images  Instances      Box(P          R      mAP50  mAP50-95): 100%|██████████| 2/2 [00:00<00:00, 15.83it/s]",
     "output_type": "stream"
    },
    {
     "name": "stdout",
     "text": "                   all          6        322      0.528      0.652      0.639      0.317\n",
     "output_type": "stream"
    },
    {
     "name": "stderr",
     "text": "\n",
     "output_type": "stream"
    },
    {
     "name": "stdout",
     "text": "\n      Epoch    GPU_mem   box_loss   cls_loss   dfl_loss  Instances       Size\n",
     "output_type": "stream"
    },
    {
     "name": "stderr",
     "text": "      6/100      2.71G      1.453      1.886      1.116        127       1280: 100%|██████████| 13/13 [00:01<00:00,  9.11it/s]\n                 Class     Images  Instances      Box(P          R      mAP50  mAP50-95): 100%|██████████| 2/2 [00:00<00:00, 14.55it/s]",
     "output_type": "stream"
    },
    {
     "name": "stdout",
     "text": "                   all          6        322      0.528      0.652      0.639      0.317\n",
     "output_type": "stream"
    },
    {
     "name": "stderr",
     "text": "\n",
     "output_type": "stream"
    },
    {
     "name": "stdout",
     "text": "\n      Epoch    GPU_mem   box_loss   cls_loss   dfl_loss  Instances       Size\n",
     "output_type": "stream"
    },
    {
     "name": "stderr",
     "text": "      7/100      2.73G      1.438      1.621       1.11         76       1280: 100%|██████████| 13/13 [00:01<00:00,  8.84it/s]\n                 Class     Images  Instances      Box(P          R      mAP50  mAP50-95): 100%|██████████| 2/2 [00:00<00:00, 16.93it/s]",
     "output_type": "stream"
    },
    {
     "name": "stdout",
     "text": "                   all          6        322      0.763       0.74      0.808       0.44\n",
     "output_type": "stream"
    },
    {
     "name": "stderr",
     "text": "\n",
     "output_type": "stream"
    },
    {
     "name": "stdout",
     "text": "\n      Epoch    GPU_mem   box_loss   cls_loss   dfl_loss  Instances       Size\n",
     "output_type": "stream"
    },
    {
     "name": "stderr",
     "text": "      8/100      2.75G      1.498      2.105      1.167         23       1280: 100%|██████████| 13/13 [00:01<00:00, 10.07it/s]\n                 Class     Images  Instances      Box(P          R      mAP50  mAP50-95): 100%|██████████| 2/2 [00:00<00:00, 15.97it/s]",
     "output_type": "stream"
    },
    {
     "name": "stdout",
     "text": "                   all          6        322      0.763       0.74      0.808       0.44\n",
     "output_type": "stream"
    },
    {
     "name": "stderr",
     "text": "\n",
     "output_type": "stream"
    },
    {
     "name": "stdout",
     "text": "\n      Epoch    GPU_mem   box_loss   cls_loss   dfl_loss  Instances       Size\n",
     "output_type": "stream"
    },
    {
     "name": "stderr",
     "text": "      9/100      2.77G      1.493      1.537      1.126         95       1280: 100%|██████████| 13/13 [00:01<00:00,  9.51it/s]\n                 Class     Images  Instances      Box(P          R      mAP50  mAP50-95): 100%|██████████| 2/2 [00:00<00:00, 14.46it/s]",
     "output_type": "stream"
    },
    {
     "name": "stdout",
     "text": "                   all          6        322      0.834      0.798      0.875      0.496\n",
     "output_type": "stream"
    },
    {
     "name": "stderr",
     "text": "\n",
     "output_type": "stream"
    },
    {
     "name": "stdout",
     "text": "\n      Epoch    GPU_mem   box_loss   cls_loss   dfl_loss  Instances       Size\n",
     "output_type": "stream"
    },
    {
     "name": "stderr",
     "text": "     10/100      2.79G       1.46      1.517      1.108         67       1280: 100%|██████████| 13/13 [00:01<00:00,  9.82it/s]\n                 Class     Images  Instances      Box(P          R      mAP50  mAP50-95): 100%|██████████| 2/2 [00:00<00:00, 15.77it/s]",
     "output_type": "stream"
    },
    {
     "name": "stdout",
     "text": "                   all          6        322      0.834      0.798      0.875      0.496\n",
     "output_type": "stream"
    },
    {
     "name": "stderr",
     "text": "\n",
     "output_type": "stream"
    },
    {
     "name": "stdout",
     "text": "\n      Epoch    GPU_mem   box_loss   cls_loss   dfl_loss  Instances       Size\n",
     "output_type": "stream"
    },
    {
     "name": "stderr",
     "text": "     11/100       2.8G      1.516      1.404      1.127        125       1280: 100%|██████████| 13/13 [00:01<00:00,  9.48it/s]\n                 Class     Images  Instances      Box(P          R      mAP50  mAP50-95): 100%|██████████| 2/2 [00:00<00:00, 13.72it/s]",
     "output_type": "stream"
    },
    {
     "name": "stdout",
     "text": "                   all          6        322      0.491      0.845      0.523       0.24\n",
     "output_type": "stream"
    },
    {
     "name": "stderr",
     "text": "\n",
     "output_type": "stream"
    },
    {
     "name": "stdout",
     "text": "\n      Epoch    GPU_mem   box_loss   cls_loss   dfl_loss  Instances       Size\n",
     "output_type": "stream"
    },
    {
     "name": "stderr",
     "text": "     12/100      2.82G      1.297      1.673      1.086         84       1280: 100%|██████████| 13/13 [00:01<00:00, 10.21it/s]\n                 Class     Images  Instances      Box(P          R      mAP50  mAP50-95): 100%|██████████| 2/2 [00:00<00:00, 13.51it/s]",
     "output_type": "stream"
    },
    {
     "name": "stdout",
     "text": "                   all          6        322      0.491      0.845      0.523       0.24\n",
     "output_type": "stream"
    },
    {
     "name": "stderr",
     "text": "\n",
     "output_type": "stream"
    },
    {
     "name": "stdout",
     "text": "\n      Epoch    GPU_mem   box_loss   cls_loss   dfl_loss  Instances       Size\n",
     "output_type": "stream"
    },
    {
     "name": "stderr",
     "text": "     13/100      2.83G      1.301      1.707      1.083        248       1280: 100%|██████████| 13/13 [00:01<00:00,  9.62it/s]\n                 Class     Images  Instances      Box(P          R      mAP50  mAP50-95): 100%|██████████| 2/2 [00:00<00:00, 13.28it/s]",
     "output_type": "stream"
    },
    {
     "name": "stdout",
     "text": "                   all          6        322      0.491      0.845      0.523       0.24\n",
     "output_type": "stream"
    },
    {
     "name": "stderr",
     "text": "\n",
     "output_type": "stream"
    },
    {
     "name": "stdout",
     "text": "\n      Epoch    GPU_mem   box_loss   cls_loss   dfl_loss  Instances       Size\n",
     "output_type": "stream"
    },
    {
     "name": "stderr",
     "text": "     14/100      2.85G      1.241      1.352      1.042        173       1280: 100%|██████████| 13/13 [00:01<00:00,  9.08it/s]\n                 Class     Images  Instances      Box(P          R      mAP50  mAP50-95): 100%|██████████| 2/2 [00:00<00:00, 11.52it/s]",
     "output_type": "stream"
    },
    {
     "name": "stdout",
     "text": "                   all          6        322       0.66       0.96      0.928      0.595\n",
     "output_type": "stream"
    },
    {
     "name": "stderr",
     "text": "\n",
     "output_type": "stream"
    },
    {
     "name": "stdout",
     "text": "\n      Epoch    GPU_mem   box_loss   cls_loss   dfl_loss  Instances       Size\n",
     "output_type": "stream"
    },
    {
     "name": "stderr",
     "text": "     15/100      2.87G      1.187      1.181       1.03        293       1280: 100%|██████████| 13/13 [00:01<00:00,  9.35it/s]\n                 Class     Images  Instances      Box(P          R      mAP50  mAP50-95): 100%|██████████| 2/2 [00:00<00:00, 10.55it/s]\n",
     "output_type": "stream"
    },
    {
     "name": "stdout",
     "text": "                   all          6        322       0.66       0.96      0.928      0.595\n\n      Epoch    GPU_mem   box_loss   cls_loss   dfl_loss  Instances       Size\n",
     "output_type": "stream"
    },
    {
     "name": "stderr",
     "text": "     16/100      2.89G      1.181       1.29      1.048        159       1280: 100%|██████████| 13/13 [00:01<00:00,  9.33it/s]\n                 Class     Images  Instances      Box(P          R      mAP50  mAP50-95): 100%|██████████| 2/2 [00:00<00:00, 13.46it/s]",
     "output_type": "stream"
    },
    {
     "name": "stdout",
     "text": "                   all          6        322      0.787      0.941      0.922      0.618\n",
     "output_type": "stream"
    },
    {
     "name": "stderr",
     "text": "\n",
     "output_type": "stream"
    },
    {
     "name": "stdout",
     "text": "\n      Epoch    GPU_mem   box_loss   cls_loss   dfl_loss  Instances       Size\n",
     "output_type": "stream"
    },
    {
     "name": "stderr",
     "text": "     17/100       2.9G      1.108      1.148      1.035        278       1280: 100%|██████████| 13/13 [00:01<00:00,  9.83it/s]\n                 Class     Images  Instances      Box(P          R      mAP50  mAP50-95): 100%|██████████| 2/2 [00:00<00:00, 11.91it/s]",
     "output_type": "stream"
    },
    {
     "name": "stdout",
     "text": "                   all          6        322      0.787      0.941      0.922      0.618\n",
     "output_type": "stream"
    },
    {
     "name": "stderr",
     "text": "\n",
     "output_type": "stream"
    },
    {
     "name": "stdout",
     "text": "\n      Epoch    GPU_mem   box_loss   cls_loss   dfl_loss  Instances       Size\n",
     "output_type": "stream"
    },
    {
     "name": "stderr",
     "text": "     18/100      2.92G      1.101      1.098      1.034        217       1280: 100%|██████████| 13/13 [00:01<00:00,  9.47it/s]\n                 Class     Images  Instances      Box(P          R      mAP50  mAP50-95): 100%|██████████| 2/2 [00:00<00:00, 13.24it/s]",
     "output_type": "stream"
    },
    {
     "name": "stdout",
     "text": "                   all          6        322      0.787      0.941      0.922      0.618\n",
     "output_type": "stream"
    },
    {
     "name": "stderr",
     "text": "\n",
     "output_type": "stream"
    },
    {
     "name": "stdout",
     "text": "\n      Epoch    GPU_mem   box_loss   cls_loss   dfl_loss  Instances       Size\n",
     "output_type": "stream"
    },
    {
     "name": "stderr",
     "text": "     19/100      2.94G      1.045      1.206      1.042        323       1280: 100%|██████████| 13/13 [00:01<00:00,  9.93it/s]\n                 Class     Images  Instances      Box(P          R      mAP50  mAP50-95): 100%|██████████| 2/2 [00:00<00:00, 14.89it/s]",
     "output_type": "stream"
    },
    {
     "name": "stdout",
     "text": "                   all          6        322      0.872      0.929      0.959      0.668\n",
     "output_type": "stream"
    },
    {
     "name": "stderr",
     "text": "\n",
     "output_type": "stream"
    },
    {
     "name": "stdout",
     "text": "\n      Epoch    GPU_mem   box_loss   cls_loss   dfl_loss  Instances       Size\n",
     "output_type": "stream"
    },
    {
     "name": "stderr",
     "text": "     20/100      2.96G      1.024      1.227      1.033         75       1280: 100%|██████████| 13/13 [00:01<00:00, 10.13it/s]\n                 Class     Images  Instances      Box(P          R      mAP50  mAP50-95): 100%|██████████| 2/2 [00:00<00:00, 13.84it/s]",
     "output_type": "stream"
    },
    {
     "name": "stdout",
     "text": "                   all          6        322      0.872      0.929      0.959      0.668\n",
     "output_type": "stream"
    },
    {
     "name": "stderr",
     "text": "\n",
     "output_type": "stream"
    },
    {
     "name": "stdout",
     "text": "\n      Epoch    GPU_mem   box_loss   cls_loss   dfl_loss  Instances       Size\n",
     "output_type": "stream"
    },
    {
     "name": "stderr",
     "text": "     21/100      2.97G      1.156       1.11      1.034        196       1280: 100%|██████████| 13/13 [00:01<00:00,  9.29it/s]\n                 Class     Images  Instances      Box(P          R      mAP50  mAP50-95): 100%|██████████| 2/2 [00:00<00:00, 13.54it/s]",
     "output_type": "stream"
    },
    {
     "name": "stdout",
     "text": "                   all          6        322      0.915      0.935      0.968      0.686\n",
     "output_type": "stream"
    },
    {
     "name": "stderr",
     "text": "\n",
     "output_type": "stream"
    },
    {
     "name": "stdout",
     "text": "\n      Epoch    GPU_mem   box_loss   cls_loss   dfl_loss  Instances       Size\n",
     "output_type": "stream"
    },
    {
     "name": "stderr",
     "text": "     22/100      2.99G     0.9866      1.371      1.028         38       1280: 100%|██████████| 13/13 [00:01<00:00,  9.76it/s]\n                 Class     Images  Instances      Box(P          R      mAP50  mAP50-95): 100%|██████████| 2/2 [00:00<00:00, 12.97it/s]",
     "output_type": "stream"
    },
    {
     "name": "stdout",
     "text": "                   all          6        322      0.915      0.935      0.968      0.686\n",
     "output_type": "stream"
    },
    {
     "name": "stderr",
     "text": "\n",
     "output_type": "stream"
    },
    {
     "name": "stdout",
     "text": "\n      Epoch    GPU_mem   box_loss   cls_loss   dfl_loss  Instances       Size\n",
     "output_type": "stream"
    },
    {
     "name": "stderr",
     "text": "     23/100      3.59G     0.9847      1.086     0.9898        148       1280: 100%|██████████| 13/13 [00:01<00:00,  9.26it/s]\n                 Class     Images  Instances      Box(P          R      mAP50  mAP50-95): 100%|██████████| 2/2 [00:00<00:00, 13.65it/s]",
     "output_type": "stream"
    },
    {
     "name": "stdout",
     "text": "                   all          6        322      0.915      0.935      0.968      0.686\n",
     "output_type": "stream"
    },
    {
     "name": "stderr",
     "text": "\n",
     "output_type": "stream"
    },
    {
     "name": "stdout",
     "text": "\n      Epoch    GPU_mem   box_loss   cls_loss   dfl_loss  Instances       Size\n",
     "output_type": "stream"
    },
    {
     "name": "stderr",
     "text": "     24/100       3.6G      1.017       1.26      1.006        350       1280: 100%|██████████| 13/13 [00:01<00:00,  8.85it/s]\n                 Class     Images  Instances      Box(P          R      mAP50  mAP50-95): 100%|██████████| 2/2 [00:00<00:00, 13.86it/s]",
     "output_type": "stream"
    },
    {
     "name": "stdout",
     "text": "                   all          6        322      0.955      0.922      0.972      0.713\n",
     "output_type": "stream"
    },
    {
     "name": "stderr",
     "text": "\n",
     "output_type": "stream"
    },
    {
     "name": "stdout",
     "text": "\n      Epoch    GPU_mem   box_loss   cls_loss   dfl_loss  Instances       Size\n",
     "output_type": "stream"
    },
    {
     "name": "stderr",
     "text": "     25/100      3.62G     0.9868      1.046     0.9951        175       1280: 100%|██████████| 13/13 [00:01<00:00, 10.06it/s]\n                 Class     Images  Instances      Box(P          R      mAP50  mAP50-95): 100%|██████████| 2/2 [00:00<00:00, 14.68it/s]",
     "output_type": "stream"
    },
    {
     "name": "stdout",
     "text": "                   all          6        322      0.955      0.922      0.972      0.713\n",
     "output_type": "stream"
    },
    {
     "name": "stderr",
     "text": "\n",
     "output_type": "stream"
    },
    {
     "name": "stdout",
     "text": "\n      Epoch    GPU_mem   box_loss   cls_loss   dfl_loss  Instances       Size\n",
     "output_type": "stream"
    },
    {
     "name": "stderr",
     "text": "     26/100      3.64G      0.938     0.9963      0.995        330       1280: 100%|██████████| 13/13 [00:01<00:00,  9.72it/s]\n                 Class     Images  Instances      Box(P          R      mAP50  mAP50-95): 100%|██████████| 2/2 [00:00<00:00, 12.97it/s]",
     "output_type": "stream"
    },
    {
     "name": "stdout",
     "text": "                   all          6        322      0.936      0.932       0.97      0.717\n",
     "output_type": "stream"
    },
    {
     "name": "stderr",
     "text": "\n",
     "output_type": "stream"
    },
    {
     "name": "stdout",
     "text": "\n      Epoch    GPU_mem   box_loss   cls_loss   dfl_loss  Instances       Size\n",
     "output_type": "stream"
    },
    {
     "name": "stderr",
     "text": "     27/100      3.65G     0.9128      1.185     0.9971        118       1280: 100%|██████████| 13/13 [00:01<00:00,  9.68it/s]\n                 Class     Images  Instances      Box(P          R      mAP50  mAP50-95): 100%|██████████| 2/2 [00:00<00:00, 12.40it/s]",
     "output_type": "stream"
    },
    {
     "name": "stdout",
     "text": "                   all          6        322      0.936      0.932       0.97      0.717\n",
     "output_type": "stream"
    },
    {
     "name": "stderr",
     "text": "\n",
     "output_type": "stream"
    },
    {
     "name": "stdout",
     "text": "\n      Epoch    GPU_mem   box_loss   cls_loss   dfl_loss  Instances       Size\n",
     "output_type": "stream"
    },
    {
     "name": "stderr",
     "text": "     28/100      3.67G     0.9692     0.9889     0.9886        233       1280: 100%|██████████| 13/13 [00:01<00:00,  9.46it/s]\n                 Class     Images  Instances      Box(P          R      mAP50  mAP50-95): 100%|██████████| 2/2 [00:00<00:00, 15.51it/s]",
     "output_type": "stream"
    },
    {
     "name": "stdout",
     "text": "                   all          6        322      0.936      0.932       0.97      0.717\n",
     "output_type": "stream"
    },
    {
     "name": "stderr",
     "text": "\n",
     "output_type": "stream"
    },
    {
     "name": "stdout",
     "text": "\n      Epoch    GPU_mem   box_loss   cls_loss   dfl_loss  Instances       Size\n",
     "output_type": "stream"
    },
    {
     "name": "stderr",
     "text": "     29/100      3.69G     0.9057     0.9813     0.9818        415       1280: 100%|██████████| 13/13 [00:01<00:00,  9.78it/s]\n                 Class     Images  Instances      Box(P          R      mAP50  mAP50-95): 100%|██████████| 2/2 [00:00<00:00, 14.64it/s]",
     "output_type": "stream"
    },
    {
     "name": "stdout",
     "text": "                   all          6        322      0.958      0.931      0.977      0.714\n",
     "output_type": "stream"
    },
    {
     "name": "stderr",
     "text": "\n",
     "output_type": "stream"
    },
    {
     "name": "stdout",
     "text": "\n      Epoch    GPU_mem   box_loss   cls_loss   dfl_loss  Instances       Size\n",
     "output_type": "stream"
    },
    {
     "name": "stderr",
     "text": "     30/100      3.71G      0.937     0.8813     0.9789        129       1280: 100%|██████████| 13/13 [00:01<00:00,  9.58it/s]\n                 Class     Images  Instances      Box(P          R      mAP50  mAP50-95): 100%|██████████| 2/2 [00:00<00:00, 15.15it/s]",
     "output_type": "stream"
    },
    {
     "name": "stdout",
     "text": "                   all          6        322      0.958      0.931      0.977      0.714\n",
     "output_type": "stream"
    },
    {
     "name": "stderr",
     "text": "\n",
     "output_type": "stream"
    },
    {
     "name": "stdout",
     "text": "\n      Epoch    GPU_mem   box_loss   cls_loss   dfl_loss  Instances       Size\n",
     "output_type": "stream"
    },
    {
     "name": "stderr",
     "text": "     31/100      3.72G     0.9727     0.9372     0.9845         95       1280: 100%|██████████| 13/13 [00:01<00:00,  9.40it/s]\n                 Class     Images  Instances      Box(P          R      mAP50  mAP50-95): 100%|██████████| 2/2 [00:00<00:00, 16.16it/s]",
     "output_type": "stream"
    },
    {
     "name": "stdout",
     "text": "                   all          6        322      0.934      0.935      0.974      0.737\n",
     "output_type": "stream"
    },
    {
     "name": "stderr",
     "text": "\n",
     "output_type": "stream"
    },
    {
     "name": "stdout",
     "text": "\n      Epoch    GPU_mem   box_loss   cls_loss   dfl_loss  Instances       Size\n",
     "output_type": "stream"
    },
    {
     "name": "stderr",
     "text": "     32/100      3.74G     0.9023     0.9061     0.9622        171       1280: 100%|██████████| 13/13 [00:01<00:00,  9.37it/s]\n                 Class     Images  Instances      Box(P          R      mAP50  mAP50-95): 100%|██████████| 2/2 [00:00<00:00, 16.94it/s]",
     "output_type": "stream"
    },
    {
     "name": "stdout",
     "text": "                   all          6        322      0.934      0.935      0.974      0.737\n",
     "output_type": "stream"
    },
    {
     "name": "stderr",
     "text": "\n",
     "output_type": "stream"
    },
    {
     "name": "stdout",
     "text": "\n      Epoch    GPU_mem   box_loss   cls_loss   dfl_loss  Instances       Size\n",
     "output_type": "stream"
    },
    {
     "name": "stderr",
     "text": "     33/100      3.76G     0.9175      1.021     0.9827        180       1280: 100%|██████████| 13/13 [00:01<00:00,  9.56it/s]\n                 Class     Images  Instances      Box(P          R      mAP50  mAP50-95): 100%|██████████| 2/2 [00:00<00:00, 15.51it/s]",
     "output_type": "stream"
    },
    {
     "name": "stdout",
     "text": "                   all          6        322      0.934      0.935      0.974      0.737\n",
     "output_type": "stream"
    },
    {
     "name": "stderr",
     "text": "\n",
     "output_type": "stream"
    },
    {
     "name": "stdout",
     "text": "\n      Epoch    GPU_mem   box_loss   cls_loss   dfl_loss  Instances       Size\n",
     "output_type": "stream"
    },
    {
     "name": "stderr",
     "text": "     34/100      3.78G     0.9253     0.9891     0.9847        528       1280: 100%|██████████| 13/13 [00:01<00:00,  9.07it/s]\n                 Class     Images  Instances      Box(P          R      mAP50  mAP50-95): 100%|██████████| 2/2 [00:00<00:00, 15.51it/s]",
     "output_type": "stream"
    },
    {
     "name": "stdout",
     "text": "                   all          6        322      0.961      0.925      0.982      0.749\n",
     "output_type": "stream"
    },
    {
     "name": "stderr",
     "text": "\n",
     "output_type": "stream"
    },
    {
     "name": "stdout",
     "text": "\n      Epoch    GPU_mem   box_loss   cls_loss   dfl_loss  Instances       Size\n",
     "output_type": "stream"
    },
    {
     "name": "stderr",
     "text": "     35/100      3.79G     0.8508     0.8249     0.9533        321       1280: 100%|██████████| 13/13 [00:01<00:00, 10.12it/s]\n                 Class     Images  Instances      Box(P          R      mAP50  mAP50-95): 100%|██████████| 2/2 [00:00<00:00, 15.21it/s]",
     "output_type": "stream"
    },
    {
     "name": "stdout",
     "text": "                   all          6        322      0.961      0.925      0.982      0.749\n",
     "output_type": "stream"
    },
    {
     "name": "stderr",
     "text": "\n",
     "output_type": "stream"
    },
    {
     "name": "stdout",
     "text": "\n      Epoch    GPU_mem   box_loss   cls_loss   dfl_loss  Instances       Size\n",
     "output_type": "stream"
    },
    {
     "name": "stderr",
     "text": "     36/100      3.81G     0.8889     0.9329     0.9584        197       1280: 100%|██████████| 13/13 [00:01<00:00,  9.38it/s]\n                 Class     Images  Instances      Box(P          R      mAP50  mAP50-95): 100%|██████████| 2/2 [00:00<00:00, 14.96it/s]",
     "output_type": "stream"
    },
    {
     "name": "stdout",
     "text": "                   all          6        322      0.956      0.938      0.985      0.746\n",
     "output_type": "stream"
    },
    {
     "name": "stderr",
     "text": "\n",
     "output_type": "stream"
    },
    {
     "name": "stdout",
     "text": "\n      Epoch    GPU_mem   box_loss   cls_loss   dfl_loss  Instances       Size\n",
     "output_type": "stream"
    },
    {
     "name": "stderr",
     "text": "     37/100      3.83G     0.8636      1.009     0.9998         65       1280: 100%|██████████| 13/13 [00:01<00:00, 10.43it/s]\n                 Class     Images  Instances      Box(P          R      mAP50  mAP50-95): 100%|██████████| 2/2 [00:00<00:00, 15.53it/s]",
     "output_type": "stream"
    },
    {
     "name": "stdout",
     "text": "                   all          6        322      0.956      0.938      0.985      0.746\n",
     "output_type": "stream"
    },
    {
     "name": "stderr",
     "text": "\n",
     "output_type": "stream"
    },
    {
     "name": "stdout",
     "text": "\n      Epoch    GPU_mem   box_loss   cls_loss   dfl_loss  Instances       Size\n",
     "output_type": "stream"
    },
    {
     "name": "stderr",
     "text": "     38/100      3.84G     0.8767     0.9705     0.9738        527       1280: 100%|██████████| 13/13 [00:01<00:00,  9.39it/s]\n                 Class     Images  Instances      Box(P          R      mAP50  mAP50-95): 100%|██████████| 2/2 [00:00<00:00, 15.30it/s]",
     "output_type": "stream"
    },
    {
     "name": "stdout",
     "text": "                   all          6        322      0.956      0.938      0.985      0.746\n",
     "output_type": "stream"
    },
    {
     "name": "stderr",
     "text": "\n",
     "output_type": "stream"
    },
    {
     "name": "stdout",
     "text": "\n      Epoch    GPU_mem   box_loss   cls_loss   dfl_loss  Instances       Size\n",
     "output_type": "stream"
    },
    {
     "name": "stderr",
     "text": "     39/100      3.86G     0.9719     0.9128     0.9632        198       1280: 100%|██████████| 13/13 [00:01<00:00,  8.85it/s]\n                 Class     Images  Instances      Box(P          R      mAP50  mAP50-95): 100%|██████████| 2/2 [00:00<00:00, 15.88it/s]",
     "output_type": "stream"
    },
    {
     "name": "stdout",
     "text": "                   all          6        322      0.976      0.944      0.987      0.731\n",
     "output_type": "stream"
    },
    {
     "name": "stderr",
     "text": "\n",
     "output_type": "stream"
    },
    {
     "name": "stdout",
     "text": "\n      Epoch    GPU_mem   box_loss   cls_loss   dfl_loss  Instances       Size\n",
     "output_type": "stream"
    },
    {
     "name": "stderr",
     "text": "     40/100      3.88G      0.892     0.9643     0.9923        221       1280: 100%|██████████| 13/13 [00:01<00:00,  9.99it/s]\n                 Class     Images  Instances      Box(P          R      mAP50  mAP50-95): 100%|██████████| 2/2 [00:00<00:00, 15.64it/s]",
     "output_type": "stream"
    },
    {
     "name": "stdout",
     "text": "                   all          6        322      0.976      0.944      0.987      0.731\n",
     "output_type": "stream"
    },
    {
     "name": "stderr",
     "text": "\n",
     "output_type": "stream"
    },
    {
     "name": "stdout",
     "text": "\n      Epoch    GPU_mem   box_loss   cls_loss   dfl_loss  Instances       Size\n",
     "output_type": "stream"
    },
    {
     "name": "stderr",
     "text": "     41/100      3.89G     0.8314     0.8774     0.9443        304       1280: 100%|██████████| 13/13 [00:01<00:00, 10.07it/s]\n                 Class     Images  Instances      Box(P          R      mAP50  mAP50-95): 100%|██████████| 2/2 [00:00<00:00, 14.94it/s]",
     "output_type": "stream"
    },
    {
     "name": "stdout",
     "text": "                   all          6        322      0.945      0.969      0.984      0.751\n",
     "output_type": "stream"
    },
    {
     "name": "stderr",
     "text": "\n",
     "output_type": "stream"
    },
    {
     "name": "stdout",
     "text": "\n      Epoch    GPU_mem   box_loss   cls_loss   dfl_loss  Instances       Size\n",
     "output_type": "stream"
    },
    {
     "name": "stderr",
     "text": "     42/100      3.91G     0.8083      0.842     0.9172        189       1280: 100%|██████████| 13/13 [00:01<00:00,  8.97it/s]\n                 Class     Images  Instances      Box(P          R      mAP50  mAP50-95): 100%|██████████| 2/2 [00:00<00:00, 13.05it/s]",
     "output_type": "stream"
    },
    {
     "name": "stdout",
     "text": "                   all          6        322      0.945      0.969      0.984      0.751\n",
     "output_type": "stream"
    },
    {
     "name": "stderr",
     "text": "\n",
     "output_type": "stream"
    },
    {
     "name": "stdout",
     "text": "\n      Epoch    GPU_mem   box_loss   cls_loss   dfl_loss  Instances       Size\n",
     "output_type": "stream"
    },
    {
     "name": "stderr",
     "text": "     43/100      3.93G      0.832     0.8486     0.9249        190       1280: 100%|██████████| 13/13 [00:01<00:00,  8.92it/s]\n                 Class     Images  Instances      Box(P          R      mAP50  mAP50-95): 100%|██████████| 2/2 [00:00<00:00, 13.87it/s]",
     "output_type": "stream"
    },
    {
     "name": "stdout",
     "text": "                   all          6        322      0.956      0.956      0.987      0.753\n",
     "output_type": "stream"
    },
    {
     "name": "stderr",
     "text": "\n",
     "output_type": "stream"
    },
    {
     "name": "stdout",
     "text": "\n      Epoch    GPU_mem   box_loss   cls_loss   dfl_loss  Instances       Size\n",
     "output_type": "stream"
    },
    {
     "name": "stderr",
     "text": "     44/100      3.95G     0.8394     0.9772     0.9471        195       1280: 100%|██████████| 13/13 [00:01<00:00,  9.90it/s]\n                 Class     Images  Instances      Box(P          R      mAP50  mAP50-95): 100%|██████████| 2/2 [00:00<00:00, 14.71it/s]",
     "output_type": "stream"
    },
    {
     "name": "stdout",
     "text": "                   all          6        322      0.956      0.956      0.987      0.753\n",
     "output_type": "stream"
    },
    {
     "name": "stderr",
     "text": "\n",
     "output_type": "stream"
    },
    {
     "name": "stdout",
     "text": "\n      Epoch    GPU_mem   box_loss   cls_loss   dfl_loss  Instances       Size\n",
     "output_type": "stream"
    },
    {
     "name": "stderr",
     "text": "     45/100      3.96G      0.827     0.8277     0.9401        126       1280: 100%|██████████| 13/13 [00:01<00:00,  9.49it/s]\n                 Class     Images  Instances      Box(P          R      mAP50  mAP50-95): 100%|██████████| 2/2 [00:00<00:00, 14.46it/s]",
     "output_type": "stream"
    },
    {
     "name": "stdout",
     "text": "                   all          6        322      0.956      0.956      0.987      0.753\n",
     "output_type": "stream"
    },
    {
     "name": "stderr",
     "text": "\n",
     "output_type": "stream"
    },
    {
     "name": "stdout",
     "text": "\n      Epoch    GPU_mem   box_loss   cls_loss   dfl_loss  Instances       Size\n",
     "output_type": "stream"
    },
    {
     "name": "stderr",
     "text": "     46/100      3.98G     0.8389     0.9512     0.9563        117       1280: 100%|██████████| 13/13 [00:01<00:00,  9.94it/s]\n                 Class     Images  Instances      Box(P          R      mAP50  mAP50-95): 100%|██████████| 2/2 [00:00<00:00, 14.61it/s]",
     "output_type": "stream"
    },
    {
     "name": "stdout",
     "text": "                   all          6        322      0.966      0.957      0.986       0.76\n",
     "output_type": "stream"
    },
    {
     "name": "stderr",
     "text": "\n",
     "output_type": "stream"
    },
    {
     "name": "stdout",
     "text": "\n      Epoch    GPU_mem   box_loss   cls_loss   dfl_loss  Instances       Size\n",
     "output_type": "stream"
    },
    {
     "name": "stderr",
     "text": "     47/100         4G     0.8065     0.8146     0.9211        513       1280: 100%|██████████| 13/13 [00:01<00:00,  9.66it/s]\n                 Class     Images  Instances      Box(P          R      mAP50  mAP50-95): 100%|██████████| 2/2 [00:00<00:00, 14.40it/s]",
     "output_type": "stream"
    },
    {
     "name": "stdout",
     "text": "                   all          6        322      0.966      0.957      0.986       0.76\n",
     "output_type": "stream"
    },
    {
     "name": "stderr",
     "text": "\n",
     "output_type": "stream"
    },
    {
     "name": "stdout",
     "text": "\n      Epoch    GPU_mem   box_loss   cls_loss   dfl_loss  Instances       Size\n",
     "output_type": "stream"
    },
    {
     "name": "stderr",
     "text": "     48/100      4.02G     0.8288     0.8691     0.9288        279       1280: 100%|██████████| 13/13 [00:01<00:00,  9.55it/s]\n                 Class     Images  Instances      Box(P          R      mAP50  mAP50-95): 100%|██████████| 2/2 [00:00<00:00, 15.40it/s]",
     "output_type": "stream"
    },
    {
     "name": "stdout",
     "text": "                   all          6        322      0.966      0.964      0.989       0.76\n",
     "output_type": "stream"
    },
    {
     "name": "stderr",
     "text": "\n",
     "output_type": "stream"
    },
    {
     "name": "stdout",
     "text": "\n      Epoch    GPU_mem   box_loss   cls_loss   dfl_loss  Instances       Size\n",
     "output_type": "stream"
    },
    {
     "name": "stderr",
     "text": "     49/100      4.03G     0.8059      1.144     0.9436         74       1280: 100%|██████████| 13/13 [00:01<00:00,  9.68it/s]\n                 Class     Images  Instances      Box(P          R      mAP50  mAP50-95): 100%|██████████| 2/2 [00:00<00:00, 15.24it/s]",
     "output_type": "stream"
    },
    {
     "name": "stdout",
     "text": "                   all          6        322      0.966      0.964      0.989       0.76\n",
     "output_type": "stream"
    },
    {
     "name": "stderr",
     "text": "\n",
     "output_type": "stream"
    },
    {
     "name": "stdout",
     "text": "\n      Epoch    GPU_mem   box_loss   cls_loss   dfl_loss  Instances       Size\n",
     "output_type": "stream"
    },
    {
     "name": "stderr",
     "text": "     50/100      4.05G     0.8204     0.7974     0.9239        149       1280: 100%|██████████| 13/13 [00:01<00:00,  9.58it/s]\n                 Class     Images  Instances      Box(P          R      mAP50  mAP50-95): 100%|██████████| 2/2 [00:00<00:00, 14.11it/s]",
     "output_type": "stream"
    },
    {
     "name": "stdout",
     "text": "                   all          6        322      0.966      0.964      0.989       0.76\n",
     "output_type": "stream"
    },
    {
     "name": "stderr",
     "text": "\n",
     "output_type": "stream"
    },
    {
     "name": "stdout",
     "text": "\n      Epoch    GPU_mem   box_loss   cls_loss   dfl_loss  Instances       Size\n",
     "output_type": "stream"
    },
    {
     "name": "stderr",
     "text": "     51/100      4.07G     0.8484     0.8896     0.9358        322       1280: 100%|██████████| 13/13 [00:01<00:00,  9.36it/s]\n                 Class     Images  Instances      Box(P          R      mAP50  mAP50-95): 100%|██████████| 2/2 [00:00<00:00, 14.99it/s]",
     "output_type": "stream"
    },
    {
     "name": "stdout",
     "text": "                   all          6        322      0.973       0.96      0.991      0.757\n",
     "output_type": "stream"
    },
    {
     "name": "stderr",
     "text": "\n",
     "output_type": "stream"
    },
    {
     "name": "stdout",
     "text": "\n      Epoch    GPU_mem   box_loss   cls_loss   dfl_loss  Instances       Size\n",
     "output_type": "stream"
    },
    {
     "name": "stderr",
     "text": "     52/100      4.08G     0.7799     0.8258     0.9303        272       1280: 100%|██████████| 13/13 [00:01<00:00,  9.39it/s]\n                 Class     Images  Instances      Box(P          R      mAP50  mAP50-95): 100%|██████████| 2/2 [00:00<00:00, 14.74it/s]",
     "output_type": "stream"
    },
    {
     "name": "stdout",
     "text": "                   all          6        322      0.973       0.96      0.991      0.757\n",
     "output_type": "stream"
    },
    {
     "name": "stderr",
     "text": "\n",
     "output_type": "stream"
    },
    {
     "name": "stdout",
     "text": "\n      Epoch    GPU_mem   box_loss   cls_loss   dfl_loss  Instances       Size\n",
     "output_type": "stream"
    },
    {
     "name": "stderr",
     "text": "     53/100       4.1G     0.7462     0.8265     0.9354        460       1280: 100%|██████████| 13/13 [00:01<00:00,  9.80it/s]\n                 Class     Images  Instances      Box(P          R      mAP50  mAP50-95): 100%|██████████| 2/2 [00:00<00:00, 16.15it/s]",
     "output_type": "stream"
    },
    {
     "name": "stdout",
     "text": "                   all          6        322       0.97      0.969       0.99      0.747\n",
     "output_type": "stream"
    },
    {
     "name": "stderr",
     "text": "\n",
     "output_type": "stream"
    },
    {
     "name": "stdout",
     "text": "\n      Epoch    GPU_mem   box_loss   cls_loss   dfl_loss  Instances       Size\n",
     "output_type": "stream"
    },
    {
     "name": "stderr",
     "text": "     54/100      4.12G     0.8087      0.768     0.9272        193       1280: 100%|██████████| 13/13 [00:01<00:00,  9.82it/s]\n                 Class     Images  Instances      Box(P          R      mAP50  mAP50-95): 100%|██████████| 2/2 [00:00<00:00, 15.11it/s]",
     "output_type": "stream"
    },
    {
     "name": "stdout",
     "text": "                   all          6        322       0.97      0.969       0.99      0.747\n",
     "output_type": "stream"
    },
    {
     "name": "stderr",
     "text": "\n",
     "output_type": "stream"
    },
    {
     "name": "stdout",
     "text": "\n      Epoch    GPU_mem   box_loss   cls_loss   dfl_loss  Instances       Size\n",
     "output_type": "stream"
    },
    {
     "name": "stderr",
     "text": "     55/100      4.13G     0.7693     0.7842      0.937        253       1280: 100%|██████████| 13/13 [00:01<00:00,  9.65it/s]\n                 Class     Images  Instances      Box(P          R      mAP50  mAP50-95): 100%|██████████| 2/2 [00:00<00:00, 13.12it/s]",
     "output_type": "stream"
    },
    {
     "name": "stdout",
     "text": "                   all          6        322       0.97      0.969       0.99      0.747\n",
     "output_type": "stream"
    },
    {
     "name": "stderr",
     "text": "\n",
     "output_type": "stream"
    },
    {
     "name": "stdout",
     "text": "\n      Epoch    GPU_mem   box_loss   cls_loss   dfl_loss  Instances       Size\n",
     "output_type": "stream"
    },
    {
     "name": "stderr",
     "text": "     56/100      4.15G     0.8354     0.7854     0.9369        159       1280: 100%|██████████| 13/13 [00:01<00:00,  9.42it/s]\n                 Class     Images  Instances      Box(P          R      mAP50  mAP50-95): 100%|██████████| 2/2 [00:00<00:00, 16.32it/s]",
     "output_type": "stream"
    },
    {
     "name": "stdout",
     "text": "                   all          6        322      0.963      0.963       0.99      0.748\n",
     "output_type": "stream"
    },
    {
     "name": "stderr",
     "text": "\n",
     "output_type": "stream"
    },
    {
     "name": "stdout",
     "text": "\n      Epoch    GPU_mem   box_loss   cls_loss   dfl_loss  Instances       Size\n",
     "output_type": "stream"
    },
    {
     "name": "stderr",
     "text": "     57/100      4.17G     0.8037     0.7491     0.9296        136       1280: 100%|██████████| 13/13 [00:01<00:00,  9.63it/s]\n                 Class     Images  Instances      Box(P          R      mAP50  mAP50-95): 100%|██████████| 2/2 [00:00<00:00, 15.55it/s]",
     "output_type": "stream"
    },
    {
     "name": "stdout",
     "text": "                   all          6        322      0.963      0.963       0.99      0.748\n",
     "output_type": "stream"
    },
    {
     "name": "stderr",
     "text": "\n",
     "output_type": "stream"
    },
    {
     "name": "stdout",
     "text": "\n      Epoch    GPU_mem   box_loss   cls_loss   dfl_loss  Instances       Size\n",
     "output_type": "stream"
    },
    {
     "name": "stderr",
     "text": "     58/100      4.19G     0.7513     0.7476     0.9156         88       1280: 100%|██████████| 13/13 [00:01<00:00,  9.64it/s]\n                 Class     Images  Instances      Box(P          R      mAP50  mAP50-95): 100%|██████████| 2/2 [00:00<00:00, 15.80it/s]",
     "output_type": "stream"
    },
    {
     "name": "stdout",
     "text": "                   all          6        322      0.972      0.958      0.991      0.758\n",
     "output_type": "stream"
    },
    {
     "name": "stderr",
     "text": "\n",
     "output_type": "stream"
    },
    {
     "name": "stdout",
     "text": "\n      Epoch    GPU_mem   box_loss   cls_loss   dfl_loss  Instances       Size\n",
     "output_type": "stream"
    },
    {
     "name": "stderr",
     "text": "     59/100       4.2G     0.7615     0.7613     0.9419         84       1280: 100%|██████████| 13/13 [00:01<00:00, 10.00it/s]\n                 Class     Images  Instances      Box(P          R      mAP50  mAP50-95): 100%|██████████| 2/2 [00:00<00:00, 15.71it/s]",
     "output_type": "stream"
    },
    {
     "name": "stdout",
     "text": "                   all          6        322      0.972      0.958      0.991      0.758\n",
     "output_type": "stream"
    },
    {
     "name": "stderr",
     "text": "\n",
     "output_type": "stream"
    },
    {
     "name": "stdout",
     "text": "\n      Epoch    GPU_mem   box_loss   cls_loss   dfl_loss  Instances       Size\n",
     "output_type": "stream"
    },
    {
     "name": "stderr",
     "text": "     60/100      4.22G     0.8111     0.7556     0.9222        311       1280: 100%|██████████| 13/13 [00:01<00:00,  9.25it/s]\n                 Class     Images  Instances      Box(P          R      mAP50  mAP50-95): 100%|██████████| 2/2 [00:00<00:00, 14.89it/s]",
     "output_type": "stream"
    },
    {
     "name": "stdout",
     "text": "                   all          6        322      0.972      0.958      0.991      0.758\n",
     "output_type": "stream"
    },
    {
     "name": "stderr",
     "text": "\n",
     "output_type": "stream"
    },
    {
     "name": "stdout",
     "text": "\n      Epoch    GPU_mem   box_loss   cls_loss   dfl_loss  Instances       Size\n",
     "output_type": "stream"
    },
    {
     "name": "stderr",
     "text": "     61/100      4.24G     0.7754     0.7088     0.9183        184       1280: 100%|██████████| 13/13 [00:01<00:00,  9.08it/s]\n                 Class     Images  Instances      Box(P          R      mAP50  mAP50-95): 100%|██████████| 2/2 [00:00<00:00, 15.41it/s]",
     "output_type": "stream"
    },
    {
     "name": "stdout",
     "text": "                   all          6        322      0.972      0.959      0.991      0.768\n",
     "output_type": "stream"
    },
    {
     "name": "stderr",
     "text": "\n",
     "output_type": "stream"
    },
    {
     "name": "stdout",
     "text": "\n      Epoch    GPU_mem   box_loss   cls_loss   dfl_loss  Instances       Size\n",
     "output_type": "stream"
    },
    {
     "name": "stderr",
     "text": "     62/100      4.26G     0.8014     0.6838     0.9074        403       1280: 100%|██████████| 13/13 [00:01<00:00,  9.10it/s]\n                 Class     Images  Instances      Box(P          R      mAP50  mAP50-95): 100%|██████████| 2/2 [00:00<00:00, 15.62it/s]",
     "output_type": "stream"
    },
    {
     "name": "stdout",
     "text": "                   all          6        322      0.972      0.959      0.991      0.768\n",
     "output_type": "stream"
    },
    {
     "name": "stderr",
     "text": "\n",
     "output_type": "stream"
    },
    {
     "name": "stdout",
     "text": "\n      Epoch    GPU_mem   box_loss   cls_loss   dfl_loss  Instances       Size\n",
     "output_type": "stream"
    },
    {
     "name": "stderr",
     "text": "     63/100      4.27G     0.7399      0.745     0.9084        200       1280: 100%|██████████| 13/13 [00:01<00:00,  9.88it/s]\n                 Class     Images  Instances      Box(P          R      mAP50  mAP50-95): 100%|██████████| 2/2 [00:00<00:00, 16.45it/s]",
     "output_type": "stream"
    },
    {
     "name": "stdout",
     "text": "                   all          6        322      0.966      0.963      0.991      0.767\n",
     "output_type": "stream"
    },
    {
     "name": "stderr",
     "text": "\n",
     "output_type": "stream"
    },
    {
     "name": "stdout",
     "text": "\n      Epoch    GPU_mem   box_loss   cls_loss   dfl_loss  Instances       Size\n",
     "output_type": "stream"
    },
    {
     "name": "stderr",
     "text": "     64/100      4.29G     0.7602     0.7699     0.9301        417       1280: 100%|██████████| 13/13 [00:01<00:00,  9.64it/s]\n                 Class     Images  Instances      Box(P          R      mAP50  mAP50-95): 100%|██████████| 2/2 [00:00<00:00, 14.10it/s]",
     "output_type": "stream"
    },
    {
     "name": "stdout",
     "text": "                   all          6        322      0.966      0.963      0.991      0.767\n",
     "output_type": "stream"
    },
    {
     "name": "stderr",
     "text": "\n",
     "output_type": "stream"
    },
    {
     "name": "stdout",
     "text": "\n      Epoch    GPU_mem   box_loss   cls_loss   dfl_loss  Instances       Size\n",
     "output_type": "stream"
    },
    {
     "name": "stderr",
     "text": "     65/100      4.31G     0.7811     0.7463      0.903         27       1280: 100%|██████████| 13/13 [00:01<00:00,  9.38it/s]\n                 Class     Images  Instances      Box(P          R      mAP50  mAP50-95): 100%|██████████| 2/2 [00:00<00:00, 15.99it/s]",
     "output_type": "stream"
    },
    {
     "name": "stdout",
     "text": "                   all          6        322      0.966      0.963      0.991      0.767\n",
     "output_type": "stream"
    },
    {
     "name": "stderr",
     "text": "\n",
     "output_type": "stream"
    },
    {
     "name": "stdout",
     "text": "\n      Epoch    GPU_mem   box_loss   cls_loss   dfl_loss  Instances       Size\n",
     "output_type": "stream"
    },
    {
     "name": "stderr",
     "text": "     66/100      4.32G     0.7359     0.6941     0.9028        332       1280: 100%|██████████| 13/13 [00:01<00:00,  9.26it/s]\n                 Class     Images  Instances      Box(P          R      mAP50  mAP50-95): 100%|██████████| 2/2 [00:00<00:00, 15.79it/s]",
     "output_type": "stream"
    },
    {
     "name": "stdout",
     "text": "                   all          6        322      0.972      0.964      0.993      0.763\n",
     "output_type": "stream"
    },
    {
     "name": "stderr",
     "text": "\n",
     "output_type": "stream"
    },
    {
     "name": "stdout",
     "text": "\n      Epoch    GPU_mem   box_loss   cls_loss   dfl_loss  Instances       Size\n",
     "output_type": "stream"
    },
    {
     "name": "stderr",
     "text": "     67/100      4.34G     0.7713     0.7812     0.9187        133       1280: 100%|██████████| 13/13 [00:01<00:00,  9.39it/s]\n                 Class     Images  Instances      Box(P          R      mAP50  mAP50-95): 100%|██████████| 2/2 [00:00<00:00, 15.24it/s]",
     "output_type": "stream"
    },
    {
     "name": "stdout",
     "text": "                   all          6        322      0.972      0.964      0.993      0.763\n",
     "output_type": "stream"
    },
    {
     "name": "stderr",
     "text": "\n",
     "output_type": "stream"
    },
    {
     "name": "stdout",
     "text": "\n      Epoch    GPU_mem   box_loss   cls_loss   dfl_loss  Instances       Size\n",
     "output_type": "stream"
    },
    {
     "name": "stderr",
     "text": "     68/100      4.36G     0.7629     0.8757     0.9263        273       1280: 100%|██████████| 13/13 [00:01<00:00,  9.58it/s]\n                 Class     Images  Instances      Box(P          R      mAP50  mAP50-95): 100%|██████████| 2/2 [00:00<00:00, 13.86it/s]",
     "output_type": "stream"
    },
    {
     "name": "stdout",
     "text": "                   all          6        322      0.958      0.982      0.993      0.759\n",
     "output_type": "stream"
    },
    {
     "name": "stderr",
     "text": "\n",
     "output_type": "stream"
    },
    {
     "name": "stdout",
     "text": "\n      Epoch    GPU_mem   box_loss   cls_loss   dfl_loss  Instances       Size\n",
     "output_type": "stream"
    },
    {
     "name": "stderr",
     "text": "     69/100      4.38G     0.7663     0.7189     0.9112        332       1280: 100%|██████████| 13/13 [00:01<00:00,  9.23it/s]\n                 Class     Images  Instances      Box(P          R      mAP50  mAP50-95): 100%|██████████| 2/2 [00:00<00:00, 13.85it/s]",
     "output_type": "stream"
    },
    {
     "name": "stdout",
     "text": "                   all          6        322      0.958      0.982      0.993      0.759\n",
     "output_type": "stream"
    },
    {
     "name": "stderr",
     "text": "\n",
     "output_type": "stream"
    },
    {
     "name": "stdout",
     "text": "\n      Epoch    GPU_mem   box_loss   cls_loss   dfl_loss  Instances       Size\n",
     "output_type": "stream"
    },
    {
     "name": "stderr",
     "text": "     70/100      4.39G     0.7955     0.7201     0.9058        272       1280: 100%|██████████| 13/13 [00:01<00:00,  9.29it/s]\n                 Class     Images  Instances      Box(P          R      mAP50  mAP50-95): 100%|██████████| 2/2 [00:00<00:00, 13.81it/s]",
     "output_type": "stream"
    },
    {
     "name": "stdout",
     "text": "                   all          6        322      0.958      0.982      0.993      0.759\n",
     "output_type": "stream"
    },
    {
     "name": "stderr",
     "text": "\n",
     "output_type": "stream"
    },
    {
     "name": "stdout",
     "text": "\n      Epoch    GPU_mem   box_loss   cls_loss   dfl_loss  Instances       Size\n",
     "output_type": "stream"
    },
    {
     "name": "stderr",
     "text": "     71/100      4.41G     0.7396     0.7436     0.9258        306       1280: 100%|██████████| 13/13 [00:01<00:00,  9.53it/s]\n                 Class     Images  Instances      Box(P          R      mAP50  mAP50-95): 100%|██████████| 2/2 [00:00<00:00, 14.64it/s]",
     "output_type": "stream"
    },
    {
     "name": "stdout",
     "text": "                   all          6        322      0.969      0.972      0.992      0.757\n",
     "output_type": "stream"
    },
    {
     "name": "stderr",
     "text": "\n",
     "output_type": "stream"
    },
    {
     "name": "stdout",
     "text": "\n      Epoch    GPU_mem   box_loss   cls_loss   dfl_loss  Instances       Size\n",
     "output_type": "stream"
    },
    {
     "name": "stderr",
     "text": "     72/100      4.43G     0.7579     0.7464     0.9167        231       1280: 100%|██████████| 13/13 [00:01<00:00,  9.56it/s]\n                 Class     Images  Instances      Box(P          R      mAP50  mAP50-95): 100%|██████████| 2/2 [00:00<00:00, 14.27it/s]",
     "output_type": "stream"
    },
    {
     "name": "stdout",
     "text": "                   all          6        322      0.969      0.972      0.992      0.757\n",
     "output_type": "stream"
    },
    {
     "name": "stderr",
     "text": "\n",
     "output_type": "stream"
    },
    {
     "name": "stdout",
     "text": "\n      Epoch    GPU_mem   box_loss   cls_loss   dfl_loss  Instances       Size\n",
     "output_type": "stream"
    },
    {
     "name": "stderr",
     "text": "     73/100      4.44G     0.7355     0.7364     0.9064        274       1280: 100%|██████████| 13/13 [00:01<00:00,  9.53it/s]\n                 Class     Images  Instances      Box(P          R      mAP50  mAP50-95): 100%|██████████| 2/2 [00:00<00:00, 15.37it/s]",
     "output_type": "stream"
    },
    {
     "name": "stdout",
     "text": "                   all          6        322      0.972      0.972      0.993      0.754\n",
     "output_type": "stream"
    },
    {
     "name": "stderr",
     "text": "\n",
     "output_type": "stream"
    },
    {
     "name": "stdout",
     "text": "\n      Epoch    GPU_mem   box_loss   cls_loss   dfl_loss  Instances       Size\n",
     "output_type": "stream"
    },
    {
     "name": "stderr",
     "text": "     74/100      4.46G     0.7357     0.7242     0.9068        134       1280: 100%|██████████| 13/13 [00:01<00:00,  9.63it/s]\n                 Class     Images  Instances      Box(P          R      mAP50  mAP50-95): 100%|██████████| 2/2 [00:00<00:00, 14.82it/s]",
     "output_type": "stream"
    },
    {
     "name": "stdout",
     "text": "                   all          6        322      0.972      0.972      0.993      0.754\n",
     "output_type": "stream"
    },
    {
     "name": "stderr",
     "text": "\n",
     "output_type": "stream"
    },
    {
     "name": "stdout",
     "text": "\n      Epoch    GPU_mem   box_loss   cls_loss   dfl_loss  Instances       Size\n",
     "output_type": "stream"
    },
    {
     "name": "stderr",
     "text": "     75/100      4.48G     0.7302     0.6363       0.89        106       1280: 100%|██████████| 13/13 [00:01<00:00,  9.59it/s]\n                 Class     Images  Instances      Box(P          R      mAP50  mAP50-95): 100%|██████████| 2/2 [00:00<00:00, 15.81it/s]",
     "output_type": "stream"
    },
    {
     "name": "stdout",
     "text": "                   all          6        322      0.978      0.977      0.993      0.765\n",
     "output_type": "stream"
    },
    {
     "name": "stderr",
     "text": "\n",
     "output_type": "stream"
    },
    {
     "name": "stdout",
     "text": "\n      Epoch    GPU_mem   box_loss   cls_loss   dfl_loss  Instances       Size\n",
     "output_type": "stream"
    },
    {
     "name": "stderr",
     "text": "     76/100      4.49G     0.7954     0.6545     0.9038        129       1280: 100%|██████████| 13/13 [00:01<00:00,  9.26it/s]\n                 Class     Images  Instances      Box(P          R      mAP50  mAP50-95): 100%|██████████| 2/2 [00:00<00:00, 12.89it/s]",
     "output_type": "stream"
    },
    {
     "name": "stdout",
     "text": "                   all          6        322      0.978      0.977      0.993      0.765\n",
     "output_type": "stream"
    },
    {
     "name": "stderr",
     "text": "\n",
     "output_type": "stream"
    },
    {
     "name": "stdout",
     "text": "\n      Epoch    GPU_mem   box_loss   cls_loss   dfl_loss  Instances       Size\n",
     "output_type": "stream"
    },
    {
     "name": "stderr",
     "text": "     77/100      4.51G     0.7802     0.6794     0.9113        182       1280: 100%|██████████| 13/13 [00:01<00:00,  9.58it/s]\n                 Class     Images  Instances      Box(P          R      mAP50  mAP50-95): 100%|██████████| 2/2 [00:00<00:00, 15.92it/s]",
     "output_type": "stream"
    },
    {
     "name": "stdout",
     "text": "                   all          6        322      0.978      0.977      0.993      0.765\n",
     "output_type": "stream"
    },
    {
     "name": "stderr",
     "text": "\n",
     "output_type": "stream"
    },
    {
     "name": "stdout",
     "text": "\n      Epoch    GPU_mem   box_loss   cls_loss   dfl_loss  Instances       Size\n",
     "output_type": "stream"
    },
    {
     "name": "stderr",
     "text": "     78/100      4.53G     0.7315     0.6904     0.8907        322       1280: 100%|██████████| 13/13 [00:01<00:00,  9.35it/s]\n                 Class     Images  Instances      Box(P          R      mAP50  mAP50-95): 100%|██████████| 2/2 [00:00<00:00, 13.75it/s]",
     "output_type": "stream"
    },
    {
     "name": "stdout",
     "text": "                   all          6        322      0.975       0.97      0.993      0.764\n",
     "output_type": "stream"
    },
    {
     "name": "stderr",
     "text": "\n",
     "output_type": "stream"
    },
    {
     "name": "stdout",
     "text": "\n      Epoch    GPU_mem   box_loss   cls_loss   dfl_loss  Instances       Size\n",
     "output_type": "stream"
    },
    {
     "name": "stderr",
     "text": "     79/100      4.55G     0.7279     0.6487     0.9163        413       1280: 100%|██████████| 13/13 [00:01<00:00,  9.07it/s]\n                 Class     Images  Instances      Box(P          R      mAP50  mAP50-95): 100%|██████████| 2/2 [00:00<00:00, 16.13it/s]",
     "output_type": "stream"
    },
    {
     "name": "stdout",
     "text": "                   all          6        322      0.975       0.97      0.993      0.764\n",
     "output_type": "stream"
    },
    {
     "name": "stderr",
     "text": "\n",
     "output_type": "stream"
    },
    {
     "name": "stdout",
     "text": "\n      Epoch    GPU_mem   box_loss   cls_loss   dfl_loss  Instances       Size\n",
     "output_type": "stream"
    },
    {
     "name": "stderr",
     "text": "     80/100      4.56G     0.7524     0.6438     0.9079        403       1280: 100%|██████████| 13/13 [00:01<00:00,  9.22it/s]\n                 Class     Images  Instances      Box(P          R      mAP50  mAP50-95): 100%|██████████| 2/2 [00:00<00:00, 14.77it/s]",
     "output_type": "stream"
    },
    {
     "name": "stdout",
     "text": "                   all          6        322      0.968      0.984      0.992      0.766\n",
     "output_type": "stream"
    },
    {
     "name": "stderr",
     "text": "\n",
     "output_type": "stream"
    },
    {
     "name": "stdout",
     "text": "\n      Epoch    GPU_mem   box_loss   cls_loss   dfl_loss  Instances       Size\n",
     "output_type": "stream"
    },
    {
     "name": "stderr",
     "text": "     81/100      4.58G     0.7577     0.6634      0.913         68       1280: 100%|██████████| 13/13 [00:01<00:00,  9.84it/s]\n                 Class     Images  Instances      Box(P          R      mAP50  mAP50-95): 100%|██████████| 2/2 [00:00<00:00, 16.20it/s]",
     "output_type": "stream"
    },
    {
     "name": "stdout",
     "text": "                   all          6        322      0.968      0.984      0.992      0.766\n",
     "output_type": "stream"
    },
    {
     "name": "stderr",
     "text": "\n",
     "output_type": "stream"
    },
    {
     "name": "stdout",
     "text": "\n      Epoch    GPU_mem   box_loss   cls_loss   dfl_loss  Instances       Size\n",
     "output_type": "stream"
    },
    {
     "name": "stderr",
     "text": "     82/100       4.6G     0.7135     0.6743     0.9029        177       1280: 100%|██████████| 13/13 [00:01<00:00,  9.69it/s]\n                 Class     Images  Instances      Box(P          R      mAP50  mAP50-95): 100%|██████████| 2/2 [00:00<00:00, 16.18it/s]",
     "output_type": "stream"
    },
    {
     "name": "stdout",
     "text": "                   all          6        322      0.968      0.984      0.992      0.766\n",
     "output_type": "stream"
    },
    {
     "name": "stderr",
     "text": "\n",
     "output_type": "stream"
    },
    {
     "name": "stdout",
     "text": "\n      Epoch    GPU_mem   box_loss   cls_loss   dfl_loss  Instances       Size\n",
     "output_type": "stream"
    },
    {
     "name": "stderr",
     "text": "     83/100      4.62G     0.7444     0.6906     0.9078        363       1280: 100%|██████████| 13/13 [00:01<00:00,  9.65it/s]\n                 Class     Images  Instances      Box(P          R      mAP50  mAP50-95): 100%|██████████| 2/2 [00:00<00:00, 15.21it/s]",
     "output_type": "stream"
    },
    {
     "name": "stdout",
     "text": "                   all          6        322      0.969      0.983      0.992      0.767\n",
     "output_type": "stream"
    },
    {
     "name": "stderr",
     "text": "\n",
     "output_type": "stream"
    },
    {
     "name": "stdout",
     "text": "\n      Epoch    GPU_mem   box_loss   cls_loss   dfl_loss  Instances       Size\n",
     "output_type": "stream"
    },
    {
     "name": "stderr",
     "text": "     84/100      4.63G     0.7379     0.6711     0.9092        495       1280: 100%|██████████| 13/13 [00:01<00:00,  9.29it/s]\n                 Class     Images  Instances      Box(P          R      mAP50  mAP50-95): 100%|██████████| 2/2 [00:00<00:00, 15.95it/s]",
     "output_type": "stream"
    },
    {
     "name": "stdout",
     "text": "                   all          6        322      0.969      0.983      0.992      0.767\n",
     "output_type": "stream"
    },
    {
     "name": "stderr",
     "text": "\n",
     "output_type": "stream"
    },
    {
     "name": "stdout",
     "text": "\n      Epoch    GPU_mem   box_loss   cls_loss   dfl_loss  Instances       Size\n",
     "output_type": "stream"
    },
    {
     "name": "stderr",
     "text": "     85/100      4.65G     0.6992     0.6625     0.9058        104       1280: 100%|██████████| 13/13 [00:01<00:00,  9.53it/s]\n                 Class     Images  Instances      Box(P          R      mAP50  mAP50-95): 100%|██████████| 2/2 [00:00<00:00, 14.40it/s]",
     "output_type": "stream"
    },
    {
     "name": "stdout",
     "text": "                   all          6        322      0.967      0.984      0.992      0.768\n",
     "output_type": "stream"
    },
    {
     "name": "stderr",
     "text": "\n",
     "output_type": "stream"
    },
    {
     "name": "stdout",
     "text": "\n      Epoch    GPU_mem   box_loss   cls_loss   dfl_loss  Instances       Size\n",
     "output_type": "stream"
    },
    {
     "name": "stderr",
     "text": "     86/100      4.67G     0.7234     0.6258      0.891        401       1280: 100%|██████████| 13/13 [00:01<00:00,  9.38it/s]\n                 Class     Images  Instances      Box(P          R      mAP50  mAP50-95): 100%|██████████| 2/2 [00:00<00:00, 14.77it/s]",
     "output_type": "stream"
    },
    {
     "name": "stdout",
     "text": "                   all          6        322      0.967      0.984      0.992      0.768\n",
     "output_type": "stream"
    },
    {
     "name": "stderr",
     "text": "\n",
     "output_type": "stream"
    },
    {
     "name": "stdout",
     "text": "\n      Epoch    GPU_mem   box_loss   cls_loss   dfl_loss  Instances       Size\n",
     "output_type": "stream"
    },
    {
     "name": "stderr",
     "text": "     87/100      4.68G     0.7217     0.6279     0.8962        164       1280: 100%|██████████| 13/13 [00:01<00:00,  9.40it/s]\n                 Class     Images  Instances      Box(P          R      mAP50  mAP50-95): 100%|██████████| 2/2 [00:00<00:00, 14.52it/s]",
     "output_type": "stream"
    },
    {
     "name": "stdout",
     "text": "                   all          6        322      0.967      0.984      0.992      0.768\n",
     "output_type": "stream"
    },
    {
     "name": "stderr",
     "text": "\n",
     "output_type": "stream"
    },
    {
     "name": "stdout",
     "text": "\n      Epoch    GPU_mem   box_loss   cls_loss   dfl_loss  Instances       Size\n",
     "output_type": "stream"
    },
    {
     "name": "stderr",
     "text": "     88/100       4.7G     0.7041     0.6095     0.8872        466       1280: 100%|██████████| 13/13 [00:01<00:00,  8.94it/s]\n                 Class     Images  Instances      Box(P          R      mAP50  mAP50-95): 100%|██████████| 2/2 [00:00<00:00, 14.55it/s]",
     "output_type": "stream"
    },
    {
     "name": "stdout",
     "text": "                   all          6        322      0.964      0.984      0.991      0.762\n",
     "output_type": "stream"
    },
    {
     "name": "stderr",
     "text": "\n",
     "output_type": "stream"
    },
    {
     "name": "stdout",
     "text": "\n      Epoch    GPU_mem   box_loss   cls_loss   dfl_loss  Instances       Size\n",
     "output_type": "stream"
    },
    {
     "name": "stderr",
     "text": "     89/100      4.72G     0.7279     0.6419     0.9171        223       1280: 100%|██████████| 13/13 [00:01<00:00,  9.54it/s]\n                 Class     Images  Instances      Box(P          R      mAP50  mAP50-95): 100%|██████████| 2/2 [00:00<00:00, 16.39it/s]",
     "output_type": "stream"
    },
    {
     "name": "stdout",
     "text": "                   all          6        322      0.964      0.984      0.991      0.762\n",
     "output_type": "stream"
    },
    {
     "name": "stderr",
     "text": "\n",
     "output_type": "stream"
    },
    {
     "name": "stdout",
     "text": "\n      Epoch    GPU_mem   box_loss   cls_loss   dfl_loss  Instances       Size\n",
     "output_type": "stream"
    },
    {
     "name": "stderr",
     "text": "     90/100      4.73G     0.7625      0.721     0.9034        335       1280: 100%|██████████| 13/13 [00:01<00:00,  9.43it/s]\n                 Class     Images  Instances      Box(P          R      mAP50  mAP50-95): 100%|██████████| 2/2 [00:00<00:00, 16.23it/s]",
     "output_type": "stream"
    },
    {
     "name": "stdout",
     "text": "                   all          6        322      0.963      0.983      0.991      0.758\n",
     "output_type": "stream"
    },
    {
     "name": "stderr",
     "text": "\n",
     "output_type": "stream"
    },
    {
     "name": "stdout",
     "text": "Closing dataloader mosaic\n\u001B[34m\u001B[1malbumentations: \u001B[0mBlur(p=0.01, blur_limit=(3, 7)), MedianBlur(p=0.01, blur_limit=(3, 7)), ToGray(p=0.01, method='weighted_average', num_output_channels=3), CLAHE(p=0.01, clip_limit=(1.0, 4.0), tile_grid_size=(8, 8))\n\n      Epoch    GPU_mem   box_loss   cls_loss   dfl_loss  Instances       Size\n",
     "output_type": "stream"
    },
    {
     "name": "stderr",
     "text": "     91/100      4.75G     0.6916     0.8242     0.8854         65       1280: 100%|██████████| 13/13 [00:01<00:00,  7.78it/s]\n                 Class     Images  Instances      Box(P          R      mAP50  mAP50-95): 100%|██████████| 2/2 [00:00<00:00, 14.09it/s]",
     "output_type": "stream"
    },
    {
     "name": "stdout",
     "text": "                   all          6        322      0.963      0.983      0.991      0.758\n",
     "output_type": "stream"
    },
    {
     "name": "stderr",
     "text": "\n",
     "output_type": "stream"
    },
    {
     "name": "stdout",
     "text": "\n      Epoch    GPU_mem   box_loss   cls_loss   dfl_loss  Instances       Size\n",
     "output_type": "stream"
    },
    {
     "name": "stderr",
     "text": "     92/100      4.77G     0.7277      1.075     0.9054        316       1280: 100%|██████████| 13/13 [00:01<00:00, 10.30it/s]\n                 Class     Images  Instances      Box(P          R      mAP50  mAP50-95): 100%|██████████| 2/2 [00:00<00:00, 14.25it/s]",
     "output_type": "stream"
    },
    {
     "name": "stdout",
     "text": "                   all          6        322      0.963      0.983      0.991      0.758\n",
     "output_type": "stream"
    },
    {
     "name": "stderr",
     "text": "\n",
     "output_type": "stream"
    },
    {
     "name": "stdout",
     "text": "\n      Epoch    GPU_mem   box_loss   cls_loss   dfl_loss  Instances       Size\n",
     "output_type": "stream"
    },
    {
     "name": "stderr",
     "text": "     93/100      4.79G     0.7537     0.7821     0.9107         84       1280: 100%|██████████| 13/13 [00:01<00:00, 10.04it/s]\n                 Class     Images  Instances      Box(P          R      mAP50  mAP50-95): 100%|██████████| 2/2 [00:00<00:00, 10.38it/s]",
     "output_type": "stream"
    },
    {
     "name": "stdout",
     "text": "                   all          6        322      0.976      0.975      0.991       0.76\n",
     "output_type": "stream"
    },
    {
     "name": "stderr",
     "text": "\n",
     "output_type": "stream"
    },
    {
     "name": "stdout",
     "text": "\n      Epoch    GPU_mem   box_loss   cls_loss   dfl_loss  Instances       Size\n",
     "output_type": "stream"
    },
    {
     "name": "stderr",
     "text": "     94/100       4.8G     0.7499      1.206     0.9449        146       1280: 100%|██████████| 13/13 [00:01<00:00, 10.06it/s]\n                 Class     Images  Instances      Box(P          R      mAP50  mAP50-95): 100%|██████████| 2/2 [00:00<00:00, 14.74it/s]",
     "output_type": "stream"
    },
    {
     "name": "stdout",
     "text": "                   all          6        322      0.976      0.975      0.991       0.76\n",
     "output_type": "stream"
    },
    {
     "name": "stderr",
     "text": "\n",
     "output_type": "stream"
    },
    {
     "name": "stdout",
     "text": "\n      Epoch    GPU_mem   box_loss   cls_loss   dfl_loss  Instances       Size\n",
     "output_type": "stream"
    },
    {
     "name": "stderr",
     "text": "     95/100      4.82G     0.6991     0.9636     0.8932         96       1280: 100%|██████████| 13/13 [00:01<00:00, 10.10it/s]\n                 Class     Images  Instances      Box(P          R      mAP50  mAP50-95): 100%|██████████| 2/2 [00:00<00:00, 12.84it/s]",
     "output_type": "stream"
    },
    {
     "name": "stdout",
     "text": "                   all          6        322      0.973      0.975       0.99      0.754\n",
     "output_type": "stream"
    },
    {
     "name": "stderr",
     "text": "\n",
     "output_type": "stream"
    },
    {
     "name": "stdout",
     "text": "\n      Epoch    GPU_mem   box_loss   cls_loss   dfl_loss  Instances       Size\n",
     "output_type": "stream"
    },
    {
     "name": "stderr",
     "text": "     96/100      4.84G     0.7053     0.8023     0.8966        149       1280: 100%|██████████| 13/13 [00:01<00:00, 10.37it/s]\n                 Class     Images  Instances      Box(P          R      mAP50  mAP50-95): 100%|██████████| 2/2 [00:00<00:00, 14.18it/s]",
     "output_type": "stream"
    },
    {
     "name": "stdout",
     "text": "                   all          6        322      0.973      0.975       0.99      0.754\n",
     "output_type": "stream"
    },
    {
     "name": "stderr",
     "text": "\n",
     "output_type": "stream"
    },
    {
     "name": "stdout",
     "text": "\n      Epoch    GPU_mem   box_loss   cls_loss   dfl_loss  Instances       Size\n",
     "output_type": "stream"
    },
    {
     "name": "stderr",
     "text": "     97/100      4.85G     0.7158     0.8936     0.8936        257       1280: 100%|██████████| 13/13 [00:01<00:00,  9.63it/s]\n                 Class     Images  Instances      Box(P          R      mAP50  mAP50-95): 100%|██████████| 2/2 [00:00<00:00, 13.88it/s]",
     "output_type": "stream"
    },
    {
     "name": "stdout",
     "text": "                   all          6        322      0.973      0.975       0.99      0.754\n",
     "output_type": "stream"
    },
    {
     "name": "stderr",
     "text": "\n",
     "output_type": "stream"
    },
    {
     "name": "stdout",
     "text": "\n      Epoch    GPU_mem   box_loss   cls_loss   dfl_loss  Instances       Size\n",
     "output_type": "stream"
    },
    {
     "name": "stderr",
     "text": "     98/100      4.87G     0.7133      1.185     0.9049         75       1280: 100%|██████████| 13/13 [00:01<00:00, 10.27it/s]\n                 Class     Images  Instances      Box(P          R      mAP50  mAP50-95): 100%|██████████| 2/2 [00:00<00:00, 12.12it/s]",
     "output_type": "stream"
    },
    {
     "name": "stdout",
     "text": "                   all          6        322      0.973      0.972      0.989      0.753\n",
     "output_type": "stream"
    },
    {
     "name": "stderr",
     "text": "\n",
     "output_type": "stream"
    },
    {
     "name": "stdout",
     "text": "\n      Epoch    GPU_mem   box_loss   cls_loss   dfl_loss  Instances       Size\n",
     "output_type": "stream"
    },
    {
     "name": "stderr",
     "text": "     99/100      4.89G     0.7214       1.02     0.8811        176       1280: 100%|██████████| 13/13 [00:01<00:00, 10.20it/s]\n                 Class     Images  Instances      Box(P          R      mAP50  mAP50-95): 100%|██████████| 2/2 [00:00<00:00, 12.90it/s]",
     "output_type": "stream"
    },
    {
     "name": "stdout",
     "text": "                   all          6        322      0.973      0.972      0.989      0.753\n",
     "output_type": "stream"
    },
    {
     "name": "stderr",
     "text": "\n",
     "output_type": "stream"
    },
    {
     "name": "stdout",
     "text": "\n      Epoch    GPU_mem   box_loss   cls_loss   dfl_loss  Instances       Size\n",
     "output_type": "stream"
    },
    {
     "name": "stderr",
     "text": "    100/100      4.91G     0.7547      1.198     0.9014         68       1280: 100%|██████████| 13/13 [00:01<00:00, 10.31it/s]\n                 Class     Images  Instances      Box(P          R      mAP50  mAP50-95): 100%|██████████| 2/2 [00:00<00:00, 11.52it/s]",
     "output_type": "stream"
    },
    {
     "name": "stdout",
     "text": "                   all          6        322      0.972      0.972      0.989      0.752\n",
     "output_type": "stream"
    },
    {
     "name": "stderr",
     "text": "\n",
     "output_type": "stream"
    },
    {
     "name": "stdout",
     "text": "\n100 epochs completed in 0.049 hours.\nOptimizer stripped from runs/detect/train/weights/last.pt, 6.3MB\nOptimizer stripped from runs/detect/train/weights/best.pt, 6.3MB\n\nValidating runs/detect/train/weights/best.pt...\nUltralytics 8.3.168 🚀 Python-3.11.13 torch-2.6.0+cu124 CUDA:0 (Tesla T4, 15095MiB)\nModel summary (fused): 72 layers, 3,005,843 parameters, 0 gradients, 8.1 GFLOPs\n",
     "output_type": "stream"
    },
    {
     "name": "stderr",
     "text": "                 Class     Images  Instances      Box(P          R      mAP50  mAP50-95): 100%|██████████| 2/2 [00:00<00:00, 15.91it/s]\n/usr/local/lib/python3.11/dist-packages/matplotlib/colors.py:721: RuntimeWarning: invalid value encountered in less\n  xa[xa < 0] = -1\n/usr/local/lib/python3.11/dist-packages/matplotlib/colors.py:721: RuntimeWarning: invalid value encountered in less\n  xa[xa < 0] = -1\n",
     "output_type": "stream"
    },
    {
     "name": "stdout",
     "text": "                   all          6        322      0.971      0.957      0.991      0.768\nSpeed: 0.4ms preprocess, 7.5ms inference, 0.0ms loss, 4.9ms postprocess per image\nResults saved to \u001B[1mruns/detect/train\u001B[0m\n",
     "output_type": "stream"
    }
   ],
   "execution_count": 2
  }
 ]
}
